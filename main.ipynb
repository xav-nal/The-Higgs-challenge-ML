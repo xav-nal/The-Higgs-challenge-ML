{
 "cells": [
  {
   "cell_type": "code",
   "execution_count": 1,
   "id": "f4f9bf24-2cdc-4e5e-ad96-1a94e6fcdf75",
   "metadata": {},
   "outputs": [],
   "source": [
    "%matplotlib inline\n",
    "import numpy as np\n",
    "import matplotlib.pyplot as plt\n",
    "%load_ext autoreload\n",
    "%autoreload 2"
   ]
  },
  {
   "cell_type": "code",
   "execution_count": 2,
   "id": "e23fc764-1784-4606-aed2-8518e2046281",
   "metadata": {},
   "outputs": [],
   "source": [
    "from helpers import load_csv_data\n",
    "DATA_PATH = 'data/train.csv.zip'\n",
    "y, X, ids = load_csv_data(DATA_PATH)"
   ]
  },
  {
   "cell_type": "code",
   "execution_count": 3,
   "id": "1bf51c3e-da4b-4050-97b9-eeb59ae266f4",
   "metadata": {},
   "outputs": [
    {
     "name": "stdout",
     "output_type": "stream",
     "text": [
      "Shape of x: (250000, 30)\n",
      "Shape of y: (250000,)\n",
      "Shape of ids: (250000,)\n"
     ]
    }
   ],
   "source": [
    "print(\"Shape of x:\",X.shape)\n",
    "print(\"Shape of y:\",y.shape)\n",
    "print(\"Shape of ids:\",ids.shape)"
   ]
  },
  {
   "cell_type": "code",
   "execution_count": 4,
   "id": "c0f92101-e57a-4a4f-9943-4ed633b11d01",
   "metadata": {},
   "outputs": [
    {
     "name": "stdout",
     "output_type": "stream",
     "text": [
      "Shape of y: (234199,)\n",
      "Shape of X: (234199, 33)\n"
     ]
    }
   ],
   "source": [
    "from data_cleaning import clean_dataset\n",
    "\n",
    "y, X = clean_dataset(y, X)\n",
    "print(\"Shape of y:\",y.shape)\n",
    "print(\"Shape of X:\",X.shape)"
   ]
  },
  {
   "cell_type": "code",
   "execution_count": 5,
   "id": "f5e3b8f1-3715-48d8-addc-63f75502c875",
   "metadata": {},
   "outputs": [
    {
     "data": {
      "text/plain": [
       "(187359,)"
      ]
     },
     "execution_count": 5,
     "metadata": {},
     "output_type": "execute_result"
    }
   ],
   "source": [
    "array_1d = np.random.randn(187359, )  # Shape: (187359,)\n",
    "array_2d = np.random.randn(187359, )  # Shape: (187359, 1)\n",
    "\n",
    "# Perform element-wise subtraction\n",
    "result = array_1d - array_2d \n",
    "result.shape"
   ]
  },
  {
   "cell_type": "code",
   "execution_count": 6,
   "id": "f8166ed1-d739-49a0-92f3-0dccd64f85e2",
   "metadata": {},
   "outputs": [
    {
     "name": "stdout",
     "output_type": "stream",
     "text": [
      "tx_tr (187359, 232)\n",
      "Iteration [100/1000], Loss [[[673830.46665608]]]\n",
      "Iteration [200/1000], Loss [[[952874.7775422]]]\n",
      "Iteration [300/1000], Loss [[[1201854.06615457]]]\n",
      "Iteration [400/1000], Loss [[[1434228.04073035]]]\n",
      "Iteration [500/1000], Loss [[[1654053.4892296]]]\n",
      "Iteration [600/1000], Loss [[[1857576.21167732]]]\n",
      "Iteration [700/1000], Loss [[[1975104.47321412]]]\n",
      "Iteration [800/1000], Loss [[[2061866.44555711]]]\n",
      "Iteration [900/1000], Loss [[[2139366.51392116]]]\n",
      "Iteration [1000/1000], Loss [[[2184470.27291304]]]\n"
     ]
    },
    {
     "ename": "TypeError",
     "evalue": "unsupported format string passed to numpy.ndarray.__format__",
     "output_type": "error",
     "traceback": [
      "\u001b[1;31m---------------------------------------------------------------------------\u001b[0m",
      "\u001b[1;31mTypeError\u001b[0m                                 Traceback (most recent call last)",
      "Cell \u001b[1;32mIn[6], line 2\u001b[0m\n\u001b[0;32m      1\u001b[0m \u001b[38;5;28;01mfrom\u001b[39;00m \u001b[38;5;21;01mrun\u001b[39;00m \u001b[38;5;28;01mimport\u001b[39;00m run_logistic_regression\n\u001b[1;32m----> 2\u001b[0m weights, loss \u001b[38;5;241m=\u001b[39m \u001b[43mrun_logistic_regression\u001b[49m\u001b[43m(\u001b[49m\u001b[43my\u001b[49m\u001b[43m,\u001b[49m\u001b[43m \u001b[49m\u001b[43mX\u001b[49m\u001b[43m)\u001b[49m\n",
      "File \u001b[1;32m~\\Repositories\\ML_projects\\run.py:64\u001b[0m, in \u001b[0;36mrun_logistic_regression\u001b[1;34m(y, x, ratio, max_iters, gamma)\u001b[0m\n\u001b[0;32m     60\u001b[0m loss_tr \u001b[38;5;241m=\u001b[39m compute_log_likelihood(y_tr, tx_tr, weight)\n\u001b[0;32m     61\u001b[0m loss_te \u001b[38;5;241m=\u001b[39m compute_log_likelihood(y_te, tx_te, weight)\n\u001b[1;32m---> 64\u001b[0m \u001b[38;5;28mprint\u001b[39m(\u001b[38;5;124;43m\"\u001b[39;49m\u001b[38;5;124;43mproportion=\u001b[39;49m\u001b[38;5;132;43;01m{p}\u001b[39;49;00m\u001b[38;5;124;43m, max_iters=\u001b[39;49m\u001b[38;5;132;43;01m{i}\u001b[39;49;00m\u001b[38;5;124;43m, gamma=\u001b[39;49m\u001b[38;5;132;43;01m{g:.3f}\u001b[39;49;00m\u001b[38;5;124;43m, Training Loss=\u001b[39;49m\u001b[38;5;132;43;01m{tr:.3f}\u001b[39;49;00m\u001b[38;5;124;43m, Testing Loss=\u001b[39;49m\u001b[38;5;132;43;01m{te:.3f}\u001b[39;49;00m\u001b[38;5;124;43m\"\u001b[39;49m\u001b[38;5;241;43m.\u001b[39;49m\u001b[43mformat\u001b[49m\u001b[43m(\u001b[49m\n\u001b[0;32m     65\u001b[0m \u001b[43m       \u001b[49m\u001b[43mp\u001b[49m\u001b[38;5;241;43m=\u001b[39;49m\u001b[43mratio\u001b[49m\u001b[43m,\u001b[49m\u001b[43m \u001b[49m\u001b[43mi\u001b[49m\u001b[38;5;241;43m=\u001b[39;49m\u001b[43mmax_iters\u001b[49m\u001b[43m,\u001b[49m\u001b[43m \u001b[49m\u001b[43mg\u001b[49m\u001b[38;5;241;43m=\u001b[39;49m\u001b[43mgamma\u001b[49m\u001b[43m,\u001b[49m\u001b[43m \u001b[49m\u001b[43mtr\u001b[49m\u001b[38;5;241;43m=\u001b[39;49m\u001b[43mloss_tr\u001b[49m\u001b[43m,\u001b[49m\u001b[43m \u001b[49m\u001b[43mte\u001b[49m\u001b[38;5;241;43m=\u001b[39;49m\u001b[43mloss_te\u001b[49m\u001b[43m)\u001b[49m)\n\u001b[0;32m     67\u001b[0m \u001b[38;5;28;01mreturn\u001b[39;00m weight, loss_rmse\n",
      "\u001b[1;31mTypeError\u001b[0m: unsupported format string passed to numpy.ndarray.__format__"
     ]
    }
   ],
   "source": [
    "from run import run_logistic_regression\n",
    "weights, loss = run_logistic_regression(y, X)"
   ]
  },
  {
   "cell_type": "code",
   "execution_count": 7,
   "id": "af40a62d-7ebd-40d5-aad5-e83f02c53e56",
   "metadata": {},
   "outputs": [
    {
     "name": "stdout",
     "output_type": "stream",
     "text": [
      "proportion=0.8, degree=7, lambda=0.000, Training RMSE=0.733, Testing RMSE=0.736\n"
     ]
    }
   ],
   "source": [
    "from run import run_ridge_regression\n",
    "weights, loss_rmse = run_ridge_regression(y,X)"
   ]
  },
  {
   "cell_type": "code",
   "execution_count": null,
   "id": "cda561de-fa37-44ac-bc8d-e53c65c4758f",
   "metadata": {},
   "outputs": [],
   "source": []
  }
 ],
 "metadata": {
  "kernelspec": {
   "display_name": "Python 3 (ipykernel)",
   "language": "python",
   "name": "python3"
  },
  "language_info": {
   "codemirror_mode": {
    "name": "ipython",
    "version": 3
   },
   "file_extension": ".py",
   "mimetype": "text/x-python",
   "name": "python",
   "nbconvert_exporter": "python",
   "pygments_lexer": "ipython3",
   "version": "3.9.21"
  }
 },
 "nbformat": 4,
 "nbformat_minor": 5
}
