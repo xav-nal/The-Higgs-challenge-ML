{
 "cells": [
  {
   "cell_type": "code",
   "execution_count": 1,
   "id": "f4f9bf24-2cdc-4e5e-ad96-1a94e6fcdf75",
   "metadata": {},
   "outputs": [],
   "source": [
    "%matplotlib inline\n",
    "import numpy as np\n",
    "import matplotlib.pyplot as plt\n",
    "%load_ext autoreload\n",
    "%autoreload 2"
   ]
  },
  {
   "cell_type": "code",
   "execution_count": 2,
   "id": "e23fc764-1784-4606-aed2-8518e2046281",
   "metadata": {},
   "outputs": [],
   "source": [
    "from helpers import load_csv_data\n",
    "DATA_PATH = 'data/train.csv.zip'\n",
    "y, X, ids = load_csv_data(DATA_PATH)"
   ]
  },
  {
   "cell_type": "code",
   "execution_count": 3,
   "id": "1bf51c3e-da4b-4050-97b9-eeb59ae266f4",
   "metadata": {},
   "outputs": [
    {
     "name": "stdout",
     "output_type": "stream",
     "text": [
      "Shape of x: (250000, 30)\n",
      "Shape of y: (250000,)\n",
      "Shape of ids: (250000,)\n"
     ]
    }
   ],
   "source": [
    "print(\"Shape of x:\",X.shape)\n",
    "print(\"Shape of y:\",y.shape)\n",
    "print(\"Shape of ids:\",ids.shape)"
   ]
  },
  {
   "cell_type": "code",
   "execution_count": 4,
   "id": "c0f92101-e57a-4a4f-9943-4ed633b11d01",
   "metadata": {},
   "outputs": [
    {
     "name": "stdout",
     "output_type": "stream",
     "text": [
      "Shape of y: (234199,)\n",
      "Shape of X: (234199, 33)\n"
     ]
    }
   ],
   "source": [
    "from data_cleaning import clean_dataset\n",
    "\n",
    "y, X = clean_dataset(y, X)\n",
    "print(\"Shape of y:\",y.shape)\n",
    "print(\"Shape of X:\",X.shape)"
   ]
  },
  {
   "cell_type": "code",
   "execution_count": 5,
   "id": "f5e3b8f1-3715-48d8-addc-63f75502c875",
   "metadata": {},
   "outputs": [
    {
     "data": {
      "text/plain": [
       "(187359,)"
      ]
     },
     "execution_count": 5,
     "metadata": {},
     "output_type": "execute_result"
    }
   ],
   "source": [
    "array_1d = np.random.randn(187359, )  # Shape: (187359,)\n",
    "array_2d = np.random.randn(187359, )  # Shape: (187359, 1)\n",
    "\n",
    "# Perform element-wise subtraction\n",
    "result = array_1d - array_2d \n",
    "result.shape"
   ]
  },
  {
   "cell_type": "code",
   "execution_count": 7,
   "id": "f8166ed1-d739-49a0-92f3-0dccd64f85e2",
   "metadata": {},
   "outputs": [
    {
     "name": "stdout",
     "output_type": "stream",
     "text": [
      "tx_tr (187359, 232)\n",
      "Iteration [100/1000], Loss [[[673830.46665608]]]\n",
      "Iteration [200/1000], Loss [[[952874.7775422]]]\n",
      "Iteration [300/1000], Loss [[[1201854.06615457]]]\n",
      "Iteration [400/1000], Loss [[[1434228.04073035]]]\n",
      "Iteration [500/1000], Loss [[[1654053.4892296]]]\n",
      "Iteration [600/1000], Loss [[[1857576.21167732]]]\n",
      "Iteration [700/1000], Loss [[[1975104.47321412]]]\n",
      "Iteration [800/1000], Loss [[[2061866.44555711]]]\n",
      "Iteration [900/1000], Loss [[[2139366.51392116]]]\n",
      "Iteration [1000/1000], Loss [[[2184470.27291304]]]\n",
      "proportion=0.8, max_iters=1000, gamma=0.000, Training Loss=2184456.571, Testing Loss=542710.219\n"
     ]
    }
   ],
   "source": [
    "from run import run_logistic_regression\n",
    "weights, loss = run_logistic_regression(y, X)"
   ]
  },
  {
   "cell_type": "code",
   "execution_count": 7,
   "id": "af40a62d-7ebd-40d5-aad5-e83f02c53e56",
   "metadata": {},
   "outputs": [
    {
     "name": "stdout",
     "output_type": "stream",
     "text": [
      "proportion=0.8, degree=7, lambda=0.000, Training RMSE=0.733, Testing RMSE=0.736\n"
     ]
    }
   ],
   "source": [
    "from run import run_ridge_regression\n",
    "weights, loss_rmse = run_ridge_regression(y,X)"
   ]
  }
 ],
 "metadata": {
  "kernelspec": {
   "display_name": "torchleet",
   "language": "python",
   "name": "python3"
  },
  "language_info": {
   "codemirror_mode": {
    "name": "ipython",
    "version": 3
   },
   "file_extension": ".py",
   "mimetype": "text/x-python",
   "name": "python",
   "nbconvert_exporter": "python",
   "pygments_lexer": "ipython3",
   "version": "3.9.21"
  }
 },
 "nbformat": 4,
 "nbformat_minor": 5
}
