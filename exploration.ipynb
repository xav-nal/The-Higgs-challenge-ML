{
 "cells": [
  {
   "cell_type": "code",
   "execution_count": null,
   "id": "095ddd2c-9ba9-46b7-a2d6-4491a5faf289",
   "metadata": {},
   "outputs": [],
   "source": [
    "%matplotlib inline\n",
    "import numpy as np\n",
    "import matplotlib.pyplot as plt\n",
    "%load_ext autoreload\n",
    "%autoreload 2"
   ]
  },
  {
   "cell_type": "code",
   "execution_count": null,
   "id": "c4c8414b-1dc3-47ac-9489-6e856794a459",
   "metadata": {},
   "outputs": [],
   "source": [
    "from helpers import load_csv_data\n",
    "DATA_PATH = 'data/train.csv.zip'\n",
    "y, tX, ids = load_csv_data(DATA_PATH)"
   ]
  },
  {
   "cell_type": "code",
   "execution_count": null,
   "id": "a475764e-e672-4d54-97c5-a50b52c69dd3",
   "metadata": {},
   "outputs": [],
   "source": [
    "print(\"Shape of x:\",tX.shape)\n",
    "print(\"Shape of y:\",y.shape)\n",
    "print(\"Shape of ids:\",ids.shape)"
   ]
  },
  {
   "cell_type": "code",
   "execution_count": null,
   "id": "f32d4ea3-333e-4d14-8b7b-12098e63d1a6",
   "metadata": {},
   "outputs": [],
   "source": [
    "for i in range(x.shape[1]):\n",
    "    col_data = x[:, i]\n",
    "    \n",
    "    # Check if it's numeric or categorical by looking at unique values\n",
    "    unique_values = np.unique(col_data)\n",
    "    print(\"col:\",i, \" : \",len(unique_values))"
   ]
  },
  {
   "cell_type": "code",
   "execution_count": null,
   "id": "fed91d8d-23cd-42ab-89a8-f64021ada870",
   "metadata": {},
   "outputs": [],
   "source": [
    "tX[tX <= -999] = np.nan\n",
    "for i in range(tX.shape[1]):\n",
    "    col_data = tX[:, i]\n",
    "    unique_values = np.unique(col_data)\n",
    "\n",
    "    plt.hist(col_data, bins=30, edgecolor='black')\n",
    "    plt.title(f\"Distribution of Feature {i}\")\n",
    "    plt.xlabel(f\"Feature {i}\")\n",
    "    plt.ylabel(\"Frequency\")\n",
    "    plt.show()"
   ]
  },
  {
   "cell_type": "code",
   "execution_count": null,
   "id": "5994e40a-3ceb-41a8-9886-b20bbae98a2f",
   "metadata": {},
   "outputs": [],
   "source": []
  },
  {
   "cell_type": "code",
   "execution_count": null,
   "id": "850517fc-ae43-4d5d-9c3a-0022a90730ea",
   "metadata": {},
   "outputs": [],
   "source": []
  },
  {
   "cell_type": "code",
   "execution_count": null,
   "id": "d5cdd555-5ac9-4047-8fdf-83befc042808",
   "metadata": {},
   "outputs": [],
   "source": []
  },
  {
   "cell_type": "code",
   "execution_count": null,
   "id": "962f0e2f-d416-4ad2-bd3b-f43b6138806c",
   "metadata": {},
   "outputs": [],
   "source": []
  },
  {
   "cell_type": "code",
   "execution_count": null,
   "id": "cd59c4ac-5b7b-4d63-89a4-43396a0ca630",
   "metadata": {},
   "outputs": [],
   "source": []
  }
 ],
 "metadata": {
  "kernelspec": {
   "display_name": "Python 3 (ipykernel)",
   "language": "python",
   "name": "python3"
  },
  "language_info": {
   "codemirror_mode": {
    "name": "ipython",
    "version": 3
   },
   "file_extension": ".py",
   "mimetype": "text/x-python",
   "name": "python",
   "nbconvert_exporter": "python",
   "pygments_lexer": "ipython3",
   "version": "3.9.21"
  }
 },
 "nbformat": 4,
 "nbformat_minor": 5
}
